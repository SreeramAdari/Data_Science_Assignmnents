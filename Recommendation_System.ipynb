{
  "nbformat": 4,
  "nbformat_minor": 0,
  "metadata": {
    "colab": {
      "provenance": [],
      "authorship_tag": "ABX9TyPdUlsK1xUl2GDtXVq85AfN",
      "include_colab_link": true
    },
    "kernelspec": {
      "name": "python3",
      "display_name": "Python 3"
    },
    "language_info": {
      "name": "python"
    }
  },
  "cells": [
    {
      "cell_type": "markdown",
      "metadata": {
        "id": "view-in-github",
        "colab_type": "text"
      },
      "source": [
        "<a href=\"https://colab.research.google.com/github/SreeramAdari/Data_Science_Assignmnents/blob/main/Recommendation_System.ipynb\" target=\"_parent\"><img src=\"https://colab.research.google.com/assets/colab-badge.svg\" alt=\"Open In Colab\"/></a>"
      ]
    },
    {
      "cell_type": "code",
      "execution_count": null,
      "metadata": {
        "id": "h-3rSeF26nhW"
      },
      "outputs": [],
      "source": [
        "import pandas as pd\n",
        "from sklearn.metrics.pairwise import cosine_similarity\n",
        "from sklearn.feature_extraction.text import TfidfVectorizer\n",
        "from sklearn.model_selection import train_test_split\n",
        "from sklearn.preprocessing import MinMaxScaler\n"
      ]
    },
    {
      "cell_type": "code",
      "source": [
        "# Load anime dataset\n",
        "anime_df = pd.read_csv(\"anime.csv\")\n",
        "\n",
        "# View structure\n",
        "print(anime_df.head())\n",
        "print(anime_df.info())\n"
      ],
      "metadata": {
        "colab": {
          "base_uri": "https://localhost:8080/"
        },
        "id": "ANrSjGWc64id",
        "outputId": "9d2b69c1-90dd-4d50-9b06-410805a3e420"
      },
      "execution_count": null,
      "outputs": [
        {
          "output_type": "stream",
          "name": "stdout",
          "text": [
            "   anime_id                              name  \\\n",
            "0     32281                    Kimi no Na wa.   \n",
            "1      5114  Fullmetal Alchemist: Brotherhood   \n",
            "2     28977                          Gintama°   \n",
            "3      9253                       Steins;Gate   \n",
            "4      9969                     Gintama&#039;   \n",
            "\n",
            "                                               genre   type episodes  rating  \\\n",
            "0               Drama, Romance, School, Supernatural  Movie        1    9.37   \n",
            "1  Action, Adventure, Drama, Fantasy, Magic, Mili...     TV       64    9.26   \n",
            "2  Action, Comedy, Historical, Parody, Samurai, S...     TV       51    9.25   \n",
            "3                                   Sci-Fi, Thriller     TV       24    9.17   \n",
            "4  Action, Comedy, Historical, Parody, Samurai, S...     TV       51    9.16   \n",
            "\n",
            "   members  \n",
            "0   200630  \n",
            "1   793665  \n",
            "2   114262  \n",
            "3   673572  \n",
            "4   151266  \n",
            "<class 'pandas.core.frame.DataFrame'>\n",
            "RangeIndex: 12294 entries, 0 to 12293\n",
            "Data columns (total 7 columns):\n",
            " #   Column    Non-Null Count  Dtype  \n",
            "---  ------    --------------  -----  \n",
            " 0   anime_id  12294 non-null  int64  \n",
            " 1   name      12294 non-null  object \n",
            " 2   genre     12232 non-null  object \n",
            " 3   type      12269 non-null  object \n",
            " 4   episodes  12294 non-null  object \n",
            " 5   rating    12064 non-null  float64\n",
            " 6   members   12294 non-null  int64  \n",
            "dtypes: float64(1), int64(2), object(4)\n",
            "memory usage: 672.5+ KB\n",
            "None\n"
          ]
        }
      ]
    },
    {
      "cell_type": "code",
      "source": [
        "# Drop rows with missing values in critical columns\n",
        "anime_df.dropna(subset=[\"name\", \"genre\", \"rating\"], inplace=True)\n",
        "\n",
        "# Fill missing episodes with 0\n",
        "anime_df['episodes'] = anime_df['episodes'].replace('Unknown', 0).astype(int)\n",
        "\n",
        "# Reset index\n",
        "anime_df.reset_index(drop=True, inplace=True)\n"
      ],
      "metadata": {
        "id": "OzbIz35667JU"
      },
      "execution_count": null,
      "outputs": []
    },
    {
      "cell_type": "code",
      "source": [
        "# Combine text features for TF-IDF\n",
        "anime_df['combined_features'] = anime_df['genre'] + ' ' + anime_df['type']\n",
        "\n",
        "# TF-IDF on combined features\n",
        "tfidf = TfidfVectorizer(stop_words='english')\n",
        "tfidf_matrix = tfidf.fit_transform(anime_df['combined_features'])\n",
        "\n",
        "# Normalize rating and episodes\n",
        "scaler = MinMaxScaler()\n",
        "anime_df[['rating', 'episodes']] = scaler.fit_transform(anime_df[['rating', 'episodes']])\n",
        "\n",
        "# Concatenate TF-IDF + numeric features\n",
        "from scipy.sparse import hstack\n",
        "features_matrix = hstack([tfidf_matrix, anime_df[['rating', 'episodes']]])\n"
      ],
      "metadata": {
        "id": "s8vvCeL96-KD"
      },
      "execution_count": null,
      "outputs": []
    },
    {
      "cell_type": "code",
      "source": [
        "# Compute cosine similarity matrix\n",
        "cos_sim = cosine_similarity(features_matrix, features_matrix)\n"
      ],
      "metadata": {
        "id": "Xb9vDBeg6_2_"
      },
      "execution_count": null,
      "outputs": []
    },
    {
      "cell_type": "code",
      "source": [
        "def recommend_anime(title, top_n=5, threshold=0.3):\n",
        "    if title not in anime_df['name'].values:\n",
        "        return \"Anime not found in dataset.\"\n",
        "\n",
        "    # Get index of anime\n",
        "    idx = anime_df[anime_df['name'] == title].index[0]\n",
        "\n",
        "    # Get similarity scores\n",
        "    sim_scores = list(enumerate(cos_sim[idx]))\n",
        "\n",
        "    # Sort by score\n",
        "    sim_scores = sorted(sim_scores, key=lambda x: x[1], reverse=True)\n",
        "\n",
        "    # Filter scores above threshold (excluding itself)\n",
        "    sim_scores = [i for i in sim_scores if i[1] >= threshold and i[0] != idx]\n",
        "\n",
        "    # Get top n\n",
        "    top_anime = [anime_df.iloc[i[0]]['name'] for i in sim_scores[:top_n]]\n",
        "\n",
        "    return top_anime\n"
      ],
      "metadata": {
        "id": "6VP-IDuo7B-I"
      },
      "execution_count": null,
      "outputs": []
    },
    {
      "cell_type": "code",
      "source": [
        "recommend_anime(\"Naruto\", top_n=5, threshold=0.2)\n"
      ],
      "metadata": {
        "colab": {
          "base_uri": "https://localhost:8080/"
        },
        "id": "8TdcEvIb7Hhj",
        "outputId": "4bd9a833-e023-4b85-8609-0a44198b7237"
      },
      "execution_count": null,
      "outputs": [
        {
          "output_type": "execute_result",
          "data": {
            "text/plain": [
              "['Naruto: Shippuuden',\n",
              " 'Naruto x UT',\n",
              " 'Rekka no Honoo',\n",
              " 'Dragon Ball Z',\n",
              " 'Boruto: Naruto the Movie']"
            ]
          },
          "metadata": {},
          "execution_count": 7
        }
      ]
    },
    {
      "cell_type": "code",
      "source": [
        "# Split into train and test by random split (for simulating unseen data)\n",
        "train, test = train_test_split(anime_df, test_size=0.2, random_state=42)\n",
        "\n",
        "# Sample evaluation: percentage of test animes appearing in any recommendation list\n",
        "hits = 0\n",
        "for title in test['name'].sample(50):  # Test on 50 random titles\n",
        "    recs = recommend_anime(title, top_n=5, threshold=0.2)\n",
        "    if isinstance(recs, list) and len(recs) > 0:\n",
        "        hits += 1\n",
        "\n",
        "print(f\"Precision-like hit rate: {hits}/50 = {hits/50:.2f}\")\n"
      ],
      "metadata": {
        "colab": {
          "base_uri": "https://localhost:8080/"
        },
        "id": "OrKosV_77Jvy",
        "outputId": "36e94852-247a-4fbe-9c91-54edc4d61d1d"
      },
      "execution_count": null,
      "outputs": [
        {
          "output_type": "stream",
          "name": "stdout",
          "text": [
            "Precision-like hit rate: 50/50 = 1.00\n"
          ]
        }
      ]
    },
    {
      "cell_type": "markdown",
      "source": [
        "A recommendation method based on user interaction with items (e.g., ratings).\n",
        "\n",
        "It finds patterns between users and items to suggest new items.\n",
        "\n"
      ],
      "metadata": {
        "id": "sCgthnIe7XHi"
      }
    },
    {
      "cell_type": "markdown",
      "source": [
        "User-based collaborative filtering focuses on finding users who are similar to the target user. The idea is that if two users have similar preferences or behaviors (like similar ratings on shows), then what one user likes, the other might like too. So, the system recommends items that similar users have enjoyed but the target user hasn’t seen yet.\n",
        "\n",
        "For example, if you and I both liked \"Naruto\" and \"Attack on Titan\", and you also liked \"One Punch Man\" (which I haven’t watched), the system might recommend \"One Punch Man\" to me.\n",
        "\n",
        "Item-based collaborative filtering, on the other hand, looks at the relationship between items (like anime shows) rather than users. It identifies items that are similar based on user behavior. So, if many users who watched \"Naruto\" also watched \"Bleach\", then the system will recommend \"Bleach\" to someone who watched \"Naruto\".\n",
        "\n",
        "This approach is often faster and more scalable, especially for large platforms, because the number of items is usually smaller and more stable than the number of users."
      ],
      "metadata": {
        "id": "0Be-FkvI7ZNS"
      }
    },
    {
      "cell_type": "code",
      "source": [],
      "metadata": {
        "id": "_cBybSJl7MKe"
      },
      "execution_count": null,
      "outputs": []
    }
  ]
}